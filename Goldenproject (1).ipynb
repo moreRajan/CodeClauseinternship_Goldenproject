{
 "cells": [
  {
   "cell_type": "code",
   "execution_count": 2,
   "id": "0c13b689-3ee7-4dcb-88de-33f39f6bca5c",
   "metadata": {},
   "outputs": [
    {
     "name": "stdout",
     "output_type": "stream",
     "text": [
      "\n",
      "\n",
      "No one in the brief history of computing has ever written a piece of perfect software. It’s unlikely that you’ll be the first.\n",
      "\n",
      "\n"
     ]
    },
    {
     "name": "stdin",
     "output_type": "stream",
     "text": [
      "\t\n",
      "Type The Word Which You Want To Know the Speed As well as Incorrect \n",
      "\n",
      " history\n"
     ]
    },
    {
     "name": "stdout",
     "output_type": "stream",
     "text": [
      "\n",
      "\n",
      "Result :--\n",
      "Accuracy: -- 0.0\n",
      "Word Per Minute :-- 8.571428571428571\n",
      "Incorrect Words :-- {'No': 'history'}\n"
     ]
    }
   ],
   "source": [
    "import time\n",
    "import threading\n",
    "\n",
    "# Created Class\n",
    "\n",
    "class tester:\n",
    "    def __init__(self, paragraph):\n",
    "        self.correctWords = []\n",
    "        self.incorrectWords = {}\n",
    "        self.typedWords = []\n",
    "        self.totalWords = []\n",
    "        self.input = None\n",
    "        self.paragraph = paragraph\n",
    "        self.accuracy = 0\n",
    "        self.time = 0\n",
    "        self.wordPermin = 0\n",
    "        self.run()\n",
    "\n",
    "#### Defined the Variable ###\n",
    "\n",
    "    def clock(self):\n",
    "        while len(self.typedWords) == 0:\n",
    "            self.time += 1\n",
    "            time.sleep(1)\n",
    "\n",
    "    def run(self):\n",
    "        threading.Thread(target=self.clock).start()\n",
    "        threading.Thread(target=self.testSpeed).start()\n",
    "\n",
    "    def testSpeed(self):\n",
    "        print('\\n\\n'+self.paragraph+'\\n\\n')\n",
    "        self.input = str(input('\\t\\n'+'Type The Word Which You Want To Know the Speed As well as Incorrect \\n\\n'))\n",
    "        self.totalWords = self.paragraph.split(' ')\n",
    "        self.typedWords = self.input.split(' ') \n",
    "\n",
    "        try:\n",
    "            for i in range(len(self.typedWords)):\n",
    "                if(self.typedWords[i] == self.totalWords[i]):\n",
    "                    self.correctWords.append(self.typedWords[i])\n",
    "                else:\n",
    "                    self.incorrectWords.update({self.totalWords[i] : self.typedWords[i]})\n",
    "\n",
    "        except Exception as e:\n",
    "            print(e)\n",
    "\n",
    "\n",
    "        self.accuracy = len(self.correctWords)/len(self.typedWords) * 100\n",
    "        self.wordPerMin = len(self.typedWords) / (self.time/60)\n",
    "\n",
    "        print('\\n\\nResult :--')\n",
    "        print(f'Accuracy: -- {self.accuracy}')\n",
    "        print(f'Word Per Minute :-- {self.wordPerMin}')\n",
    "        print(f'Incorrect Words :-- {self.incorrectWords}')\n",
    "\n",
    "Mytester = tester(\"No one in the brief history of computing has ever written a piece of perfect software. It’s unlikely that you’ll be the first.\")\n"
   ]
  },
  {
   "cell_type": "code",
   "execution_count": null,
   "id": "c8b78c6d-e3af-4a88-a312-56c7cd0bdc28",
   "metadata": {},
   "outputs": [],
   "source": []
  }
 ],
 "metadata": {
  "kernelspec": {
   "display_name": "Python 3 (ipykernel)",
   "language": "python",
   "name": "python3"
  },
  "language_info": {
   "codemirror_mode": {
    "name": "ipython",
    "version": 3
   },
   "file_extension": ".py",
   "mimetype": "text/x-python",
   "name": "python",
   "nbconvert_exporter": "python",
   "pygments_lexer": "ipython3",
   "version": "3.10.8"
  }
 },
 "nbformat": 4,
 "nbformat_minor": 5
}
